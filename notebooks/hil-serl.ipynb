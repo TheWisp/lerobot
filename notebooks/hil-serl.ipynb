{
 "cells": [
  {
   "cell_type": "markdown",
   "id": "38c1d103",
   "metadata": {},
   "source": [
    "# Basic Setup"
   ]
  },
  {
   "cell_type": "code",
   "execution_count": 24,
   "id": "bd1bd918",
   "metadata": {},
   "outputs": [
    {
     "name": "stdout",
     "output_type": "stream",
     "text": [
      "/Users/Shared/GitHub/lerobot/src\n"
     ]
    },
    {
     "name": "stderr",
     "output_type": "stream",
     "text": [
      "997.89s - pydevd: Sending message related to process being replaced timed-out after 5 seconds\n"
     ]
    },
    {
     "name": "stdout",
     "output_type": "stream",
     "text": [
      "/opt/anaconda3/envs/lerobot/bin/python\n"
     ]
    }
   ],
   "source": [
    "%cd /Users/Shared/GitHub/lerobot/src/\n",
    "%pwd\n",
    "!which python"
   ]
  },
  {
   "cell_type": "markdown",
   "id": "6df7fb00",
   "metadata": {},
   "source": [
    "# Recording"
   ]
  },
  {
   "cell_type": "code",
   "execution_count": 27,
   "id": "3e1dda52",
   "metadata": {},
   "outputs": [
    {
     "name": "stderr",
     "output_type": "stream",
     "text": [
      "2936.98s - pydevd: Sending message related to process being replaced timed-out after 5 seconds\n"
     ]
    },
    {
     "name": "stdout",
     "output_type": "stream",
     "text": [
      "Traceback (most recent call last):\n",
      "  File \"/opt/anaconda3/envs/lerobot/lib/python3.10/runpy.py\", line 196, in _run_module_as_main\n",
      "    return _run_code(code, main_globals, None,\n",
      "  File \"/opt/anaconda3/envs/lerobot/lib/python3.10/runpy.py\", line 86, in _run_code\n",
      "    exec(code, run_globals)\n",
      "  File \"/Users/Shared/GitHub/lerobot/src/lerobot/rl/gym_manipulator.py\", line 770, in <module>\n",
      "    main()\n",
      "  File \"/Users/Shared/GitHub/lerobot/src/lerobot/configs/parser.py\", line 224, in wrapper_inner\n",
      "    cfg = draccus.parse(config_class=argtype, config_path=config_path, args=cli_args)\n",
      "  File \"/opt/anaconda3/envs/lerobot/lib/python3.10/site-packages/draccus/argparsing.py\", line 211, in parse\n",
      "    return parser.parse_args(args)\n",
      "  File \"/opt/anaconda3/envs/lerobot/lib/python3.10/site-packages/draccus/argparsing.py\", line 102, in parse_args\n",
      "    args, _ = self.parse_known_args(args, namespace, is_parse_args=True)\n",
      "  File \"/opt/anaconda3/envs/lerobot/lib/python3.10/site-packages/draccus/argparsing.py\", line 136, in parse_known_args\n",
      "    parsed_t = self._postprocessing(parsed_args)\n",
      "  File \"/opt/anaconda3/envs/lerobot/lib/python3.10/site-packages/draccus/argparsing.py\", line 180, in _postprocessing\n",
      "    cfg = decoding.decode(self.config_class, deflat_d)\n",
      "  File \"/opt/anaconda3/envs/lerobot/lib/python3.10/site-packages/draccus/parsers/registry_utils.py\", line 78, in wrapper\n",
      "    return base_func(*args, **kw)\n",
      "  File \"/opt/anaconda3/envs/lerobot/lib/python3.10/site-packages/draccus/parsers/decoding.py\", line 48, in decode\n",
      "    return get_decoding_fn(cls)(raw_value, ())  # type: ignore\n",
      "  File \"/opt/anaconda3/envs/lerobot/lib/python3.10/site-packages/draccus/parsers/decoding.py\", line 149, in decode_dataclass\n",
      "    raise DecodingError(path, f\"The fields {formatted_keys} are not valid for {stringify_type(cls)}\")\n",
      "draccus.utils.DecodingError: The fields `type`, `robot`, `teleop`, `wrapper`, `name`, `repo_id`, `dataset_root`, `task`, `num_episodes`, `episode`, `pretrained_policy_name_or_path`, `push_to_hub`, `fps`, `features`, `features_map`, `reward_classifier_pretrained_path` are not valid for GymManipulatorConfig\n"
     ]
    }
   ],
   "source": [
    "!python -m lerobot.rl.gym_manipulator --config_path lerobot/configs/env_config_so100.json"
   ]
  }
 ],
 "metadata": {
  "kernelspec": {
   "display_name": "lerobot",
   "language": "python",
   "name": "python3"
  },
  "language_info": {
   "codemirror_mode": {
    "name": "ipython",
    "version": 3
   },
   "file_extension": ".py",
   "mimetype": "text/x-python",
   "name": "python",
   "nbconvert_exporter": "python",
   "pygments_lexer": "ipython3",
   "version": "3.10.14"
  }
 },
 "nbformat": 4,
 "nbformat_minor": 5
}
